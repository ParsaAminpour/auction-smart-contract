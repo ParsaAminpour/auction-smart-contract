{
 "cells": [
  {
   "cell_type": "markdown",
   "metadata": {},
   "source": [
    "# Probability Weighted System using Cumulative Probabilities"
   ]
  },
  {
   "cell_type": "code",
   "execution_count": 112,
   "metadata": {},
   "outputs": [],
   "source": [
    "import matplotlib.pyplot as plt\n",
    "import pandas as pd\n",
    "import numpy as np\n",
    "from rich import print\n",
    "PROB_CAP = 0.25\n",
    "VRF_NUMBER = np.random.rand()\n",
    "winner = None"
   ]
  },
  {
   "cell_type": "code",
   "execution_count": 113,
   "metadata": {},
   "outputs": [],
   "source": [
    "''' \n",
    "    In this section I used raw probabilities of each bidders based on their price proposal bid.\n",
    "    With Assume delta = 5 (instead of 5% in the question form)\n",
    "'''\n",
    "bids = [10, 15, 20, 25, 30, 35, 40, 45, 50, 55, 60, 65, 70, 75, 80, 85, 90, 95, 100, 120]\n",
    "bids_data = {f\"0x0{i}\": bid for i, bid in enumerate(bids)}\n",
    "\n",
    "raw_probs = [bid / sum(bids_data.values()) for bid in bids]"
   ]
  },
  {
   "cell_type": "code",
   "execution_count": 114,
   "metadata": {},
   "outputs": [],
   "source": [
    "''' \n",
    "    I capped the probs to 25% as the requirements of the question form, and then distributed the collected capped\n",
    "    amounts among the bids price less than 25%, to have a sumation of 1 in all capped probabilities.\n",
    "'''\n",
    "capped_probs = []\n",
    "exceeded_probs, s_non_capped = 0, 0\n",
    "\n",
    "for raw_prob in raw_probs:\n",
    "    if raw_prob > PROB_CAP:\n",
    "        capped_probs.append(PROB_CAP)\n",
    "        exceeded_probs += raw_prob - PROB_CAP\n",
    "    else:\n",
    "        capped_probs.append(raw_prob)\n",
    "        s_non_capped += raw_prob"
   ]
  },
  {
   "cell_type": "code",
   "execution_count": 115,
   "metadata": {},
   "outputs": [],
   "source": [
    "# Redistributing capped probs\n",
    "for idx, prob in enumerate(raw_probs):\n",
    "    if prob <= PROB_CAP:\n",
    "        capped_probs[idx] += (capped_probs[idx] / s_non_capped) * exceeded_probs"
   ]
  },
  {
   "cell_type": "code",
   "execution_count": 117,
   "metadata": {},
   "outputs": [],
   "source": [
    "'''\n",
    "    As a Verified Randomness Number (VRF) will select the winner based on the participants chance, I decided to use\n",
    "    the common way called Cumulative Distribution Function or (CDF), this procedure works perfect and as it expected\n",
    "    and I didn't research about other possible (or barely efficient) way for this. (simplicity ~ straightforward audit)\n",
    "'''\n",
    "cumulative_probs = np.cumsum(capped_probs)"
   ]
  },
  {
   "cell_type": "code",
   "execution_count": 118,
   "metadata": {},
   "outputs": [],
   "source": [
    "for i, c_probs in enumerate(cumulative_probs):\n",
    "    if VRF_NUMBER <= c_probs:\n",
    "        winner = i + 1\n",
    "        break"
   ]
  },
  {
   "cell_type": "code",
   "execution_count": 119,
   "metadata": {},
   "outputs": [
    {
     "data": {
      "image/png": "[encoded data removed]",
      "text/plain": [
       "<Figure size 720x432 with 1 Axes>"
      ]
     },
     "metadata": {
      "needs_background": "light"
     },
     "output_type": "display_data"
    }
   ],
   "source": [
    "plt.figure(figsize=(10, 6))\n",
    "sample_addr_labels = [f\"0x0{i}\" for i in range(1, 21)]\n",
    "bars = plt.bar(range(1, 21), cumulative_probs, color='lightgreen', edgecolor='black', label='Cumulative Probs')\n",
    "bars[winner - 1].set_color('green')\n",
    "plt.axhline(y=VRF_NUMBER, color='red', linestyle='--', label=f'VRF Number: {VRF_NUMBER:.2f}')\n",
    "\n",
    "plt.title('Cumulative Probabilities for 20 bids with VRF number')\n",
    "plt.xlabel('Bidders Propose')\n",
    "plt.ylabel('Cumulative Probability')\n",
    "plt.xticks(range(1, 21), sample_addr_labels)\n",
    "plt.legend()\n",
    "plt.show()"
   ]
  },
  {
   "cell_type": "markdown",
   "metadata": {},
   "source": [
    "$$S = \\sum_{i=1}^{n} B_i  => P_i = \\frac{B_i}{S}$$\n",
    "\n",
    "\n",
    "$$P'_i = \\min\\left( P_i, 0.25 \\right) =>  E_i = P_i - 0.25$$\n",
    "\n",
    "$$E_{\\text{total}} = \\sum_{P_i > 0.25} (P_i - 0.25)$$\n",
    "\n",
    "$$P'_j = P_j + \\frac{P_j}{\\sum_{P_i \\leq 0.25} P_i} \\times E_{\\text{total}}$$\n",
    "\n",
    "$$C_i = \\sum_{j=1}^{i} P'_j$$\n",
    "\n",
    "$$\\exists i \\in \\{1, 2, \\dots, n\\} \\text{ that } C_{i-1} \\leq R < C_i, \\text{ => } i \\text{ wins.}$$"
   ]
  },
  {
   "cell_type": "markdown",
   "metadata": {},
   "source": []
  }
 ],
 "metadata": {
  "kernelspec": {
   "display_name": "Python 3",
   "language": "python",
   "name": "python3"
  },
  "language_info": {
   "codemirror_mode": {
    "name": "ipython",
    "version": 3
   },
   "file_extension": ".py",
   "mimetype": "text/x-python",
   "name": "python",
   "nbconvert_exporter": "python",
   "pygments_lexer": "ipython3",
   "version": "3.10.12"
  }
 },
 "nbformat": 4,
 "nbformat_minor": 2
}
